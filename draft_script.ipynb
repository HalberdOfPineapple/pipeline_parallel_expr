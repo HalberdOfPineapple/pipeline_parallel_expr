{
 "cells": [
  {
   "cell_type": "code",
   "execution_count": 1,
   "metadata": {},
   "outputs": [],
   "source": [
    "import torch\n",
    "from typing import List, Tuple, Callable, Any, Dict\n",
    "\n",
    "def split_batch(batch: torch.Tensor, num_micro_batches: int) -> List[torch.Tensor]:\n",
    "    \"\"\"Split a batch into a list of microbatches\"\"\"\n",
    "    if isinstance(batch, torch.Tensor):\n",
    "        split_batch = batch.chunk(num_micro_batches)\n",
    "    else: # batch is a list of tensors\n",
    "        split_batch = []\n",
    "        for tensor in batch:\n",
    "            split_tensor = tensor.chunk(num_micro_batches)\n",
    "            split_batch.append(split_tensor)\n",
    "        split_batch = zip(*split_batch)\n",
    "    return list(split_batch)"
   ]
  },
  {
   "cell_type": "code",
   "execution_count": 25,
   "metadata": {},
   "outputs": [],
   "source": [
    "num_micro_batches = 4\n",
    "batch = torch.rand(1, 28, 28)\n",
    "batch = batch[0].view(-1, 28*28)\n",
    "split_batch = batch.chunk(num_micro_batches)"
   ]
  },
  {
   "cell_type": "code",
   "execution_count": 28,
   "metadata": {},
   "outputs": [
    {
     "data": {
      "text/plain": [
       "torch.Size([1, 784])"
      ]
     },
     "execution_count": 28,
     "metadata": {},
     "output_type": "execute_result"
    }
   ],
   "source": [
    "split_batch[0].shape"
   ]
  },
  {
   "cell_type": "code",
   "execution_count": 3,
   "metadata": {},
   "outputs": [
    {
     "name": "stdout",
     "output_type": "stream",
     "text": [
      "torch.Size([4, 1, 3])\n",
      "torch.Size([4, 1, 3])\n"
     ]
    }
   ],
   "source": [
    "batch = [torch.arange(12).reshape(4,1,3) for _ in range(2)]\n",
    "for tensor in batch:\n",
    "    print(tensor.shape)"
   ]
  },
  {
   "cell_type": "code",
   "execution_count": 5,
   "metadata": {},
   "outputs": [],
   "source": [
    "num_micro_batches = 2\n",
    "split_batch = []\n",
    "for tensor in batch:\n",
    "    split_tensor = tensor.chunk(num_micro_batches)\n",
    "    split_batch.append(split_tensor)"
   ]
  },
  {
   "cell_type": "code",
   "execution_count": 10,
   "metadata": {},
   "outputs": [
    {
     "name": "stdout",
     "output_type": "stream",
     "text": [
      "2\n",
      "2\n",
      "2\n",
      "[(tensor([[[0, 1, 2]],\n",
      "\n",
      "        [[3, 4, 5]]]), tensor([[[ 6,  7,  8]],\n",
      "\n",
      "        [[ 9, 10, 11]]])), (tensor([[[0, 1, 2]],\n",
      "\n",
      "        [[3, 4, 5]]]), tensor([[[ 6,  7,  8]],\n",
      "\n",
      "        [[ 9, 10, 11]]]))]\n"
     ]
    }
   ],
   "source": [
    "print(len(split_batch))\n",
    "print(len(split_batch[0]))\n",
    "print(len(split_batch[0][0]))\n",
    "print(split_batch)"
   ]
  },
  {
   "cell_type": "code",
   "execution_count": 18,
   "metadata": {},
   "outputs": [],
   "source": [
    "import os\n",
    "import random\n",
    "import numpy as np\n",
    "\n",
    "import torch\n",
    "\n",
    "def init_seed(seed):\n",
    "    random.seed(seed)\n",
    "    np.random.seed(seed)\n",
    "    torch.manual_seed(seed)\n",
    "\n",
    "def build_model():\n",
    "    linear1 = torch.nn.Linear(28 * 28, 28)\n",
    "    relu = torch.nn.ReLU()\n",
    "    linear2 = torch.nn.Linear(28, 10)\n",
    "    return torch.nn.Sequential(linear1, relu, linear2)"
   ]
  },
  {
   "cell_type": "code",
   "execution_count": 19,
   "metadata": {},
   "outputs": [
    {
     "name": "stdout",
     "output_type": "stream",
     "text": [
      "3\n"
     ]
    }
   ],
   "source": [
    "model = build_model()\n",
    "print(len(model))"
   ]
  },
  {
   "cell_type": "code",
   "execution_count": 16,
   "metadata": {},
   "outputs": [
    {
     "data": {
      "text/plain": [
       "[(tensor([[[0, 1, 2]],\n",
       "  \n",
       "          [[3, 4, 5]]]),\n",
       "  tensor([[[0, 1, 2]],\n",
       "  \n",
       "          [[3, 4, 5]]])),\n",
       " (tensor([[[ 6,  7,  8]],\n",
       "  \n",
       "          [[ 9, 10, 11]]]),\n",
       "  tensor([[[ 6,  7,  8]],\n",
       "  \n",
       "          [[ 9, 10, 11]]]))]"
      ]
     },
     "execution_count": 16,
     "metadata": {},
     "output_type": "execute_result"
    }
   ],
   "source": []
  },
  {
   "cell_type": "code",
   "execution_count": null,
   "metadata": {},
   "outputs": [],
   "source": []
  }
 ],
 "metadata": {
  "kernelspec": {
   "display_name": "torch_ddp",
   "language": "python",
   "name": "python3"
  },
  "language_info": {
   "codemirror_mode": {
    "name": "ipython",
    "version": 3
   },
   "file_extension": ".py",
   "mimetype": "text/x-python",
   "name": "python",
   "nbconvert_exporter": "python",
   "pygments_lexer": "ipython3",
   "version": "3.10.13"
  }
 },
 "nbformat": 4,
 "nbformat_minor": 2
}
